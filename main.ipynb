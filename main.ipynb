{
 "cells": [
  {
   "cell_type": "code",
   "execution_count": 1,
   "metadata": {},
   "outputs": [],
   "source": [
    "import chess.pgn"
   ]
  },
  {
   "cell_type": "code",
   "execution_count": 2,
   "metadata": {},
   "outputs": [],
   "source": [
    "def get_games(pgn_file, n):\n",
    "    with open(pgn_file) as pgn:\n",
    "        return [chess.pgn.read_game(pgn) for _ in range(n)]"
   ]
  },
  {
   "cell_type": "code",
   "execution_count": 3,
   "metadata": {},
   "outputs": [],
   "source": [
    "g = get_games('./data/lichess_db_standard_rated_2014-04.pgn', n=100)"
   ]
  },
  {
   "cell_type": "code",
   "execution_count": 4,
   "metadata": {},
   "outputs": [
    {
     "data": {
      "text/plain": [
       "{'_tag_roster': {'Event': 'Rated Bullet game',\n",
       "  'Site': 'https://lichess.org/uzrdp5oy',\n",
       "  'Date': '????.??.??',\n",
       "  'Round': '?',\n",
       "  'White': 'jijini',\n",
       "  'Black': 'braq',\n",
       "  'Result': '1-0'},\n",
       " '_others': {'UTCDate': '2014.03.31',\n",
       "  'UTCTime': '22:01:14',\n",
       "  'WhiteElo': '1627',\n",
       "  'BlackElo': '1452',\n",
       "  'WhiteRatingDiff': '+6',\n",
       "  'BlackRatingDiff': '-6',\n",
       "  'ECO': 'A00',\n",
       "  'Opening': 'Hungarian Opening',\n",
       "  'TimeControl': '60+0',\n",
       "  'Termination': 'Normal'}}"
      ]
     },
     "execution_count": 4,
     "metadata": {},
     "output_type": "execute_result"
    }
   ],
   "source": [
    "g[10].headers.__dict__"
   ]
  }
 ],
 "metadata": {
  "kernelspec": {
   "display_name": "Python 3",
   "language": "python",
   "name": "python3"
  },
  "language_info": {
   "codemirror_mode": {
    "name": "ipython",
    "version": 3
   },
   "file_extension": ".py",
   "mimetype": "text/x-python",
   "name": "python",
   "nbconvert_exporter": "python",
   "pygments_lexer": "ipython3",
   "version": "3.7.6"
  }
 },
 "nbformat": 4,
 "nbformat_minor": 4
}
